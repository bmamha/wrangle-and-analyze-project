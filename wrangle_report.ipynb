{
 "cells": [
  {
   "cell_type": "markdown",
   "metadata": {},
   "source": [
    "## Reporting: wrangle_report\n"
   ]
  },
  {
   "cell_type": "markdown",
   "metadata": {},
   "source": [
    "For this project we aimed to gather, assess and clean the data for the dog pictures and 'ratings' for @WeRateDogs twitter account. In order to achieve this we gathered data from three different sources: direct upload of an 'enhanced twitter archive, upload through url request library of a dataset containing the images posted along with AI predictions of what is contained in the pictures,  and additional Tweet content obtained from Twitter API. As the data gathered overlapped we had to handle redundancy and structural issues. And as a programmatic method was used to extract data from the twitter accounts to evaluate the kinds of dogs (which is not always the case) posted on the Twitter account, erroneous values were caused due to minor errors caused during extraction. We utilized the dataset which evaluated the content of images in the Twitter posts to gauge whether dogs are actually in the pictures. Along the way we picked on various data quality and tidyness issues."
   ]
  },
  {
   "cell_type": "code",
   "execution_count": 2,
   "metadata": {},
   "outputs": [
    {
     "name": "stdout",
     "output_type": "stream",
     "text": [
      "[NbConvertApp] Converting notebook wrangle_report.ipynb to html\n",
      "[NbConvertApp] Writing 569126 bytes to wrangle_report.html\n"
     ]
    }
   ],
   "source": [
    "!jupyter nbconvert --to html wrangle_report.ipynb\n"
   ]
  }
 ],
 "metadata": {
  "kernelspec": {
   "display_name": "Python 3.6.13 ('wrangle-project')",
   "language": "python",
   "name": "python3"
  },
  "language_info": {
   "codemirror_mode": {
    "name": "ipython",
    "version": 3
   },
   "file_extension": ".py",
   "mimetype": "text/x-python",
   "name": "python",
   "nbconvert_exporter": "python",
   "pygments_lexer": "ipython3",
   "version": "3.6.13"
  },
  "vscode": {
   "interpreter": {
    "hash": "68b43db217e69e42e69fcd23fb87846ec392e9f5cf6de4435a337c20623a26d5"
   }
  }
 },
 "nbformat": 4,
 "nbformat_minor": 2
}
