{
 "cells": [
  {
   "cell_type": "markdown",
   "metadata": {},
   "source": [
    "## Report: act_report"
   ]
  },
  {
   "cell_type": "markdown",
   "metadata": {},
   "source": [
    "# Dog Types in @WeRateDogs Twitter Account\n",
    "For those curious to know the dog types (doggo, pupper, floofer, puppo) for the kind of dogs posted on the Twitter archive dataset they will have to determine themselves for most of the twitter posts as the account manager(s) only declare(s) their type on occasions. But the acocount managers love to mention the dog type on their posts if the dogs are puppers. Puppers are declared 203 times while the next closest, which is doggos, are announced only 63 times. \n",
    "\n",
    "For those curious to label the type of dogs for the images, their next project can be to identify the types based on the images or by using additional information obtained from the `image predictions` dataset, or by extracting the dog breed information from the posts if they are included in the Twitter content."
   ]
  },
  {
   "cell_type": "code",
   "execution_count": 1,
   "metadata": {},
   "outputs": [
    {
     "name": "stdout",
     "output_type": "stream",
     "text": [
      "[NbConvertApp] Converting notebook act_report.ipynb to html\n",
      "[NbConvertApp] Writing 567740 bytes to act_report.html\n"
     ]
    }
   ],
   "source": [
    "!jupyter nbconvert --to html act_report.ipynb"
   ]
  },
  {
   "cell_type": "markdown",
   "metadata": {},
   "source": []
  }
 ],
 "metadata": {
  "kernelspec": {
   "display_name": "Python 3.6.13 ('wrangle-project')",
   "language": "python",
   "name": "python3"
  },
  "language_info": {
   "codemirror_mode": {
    "name": "ipython",
    "version": 3
   },
   "file_extension": ".py",
   "mimetype": "text/x-python",
   "name": "python",
   "nbconvert_exporter": "python",
   "pygments_lexer": "ipython3",
   "version": "3.6.13"
  },
  "vscode": {
   "interpreter": {
    "hash": "68b43db217e69e42e69fcd23fb87846ec392e9f5cf6de4435a337c20623a26d5"
   }
  }
 },
 "nbformat": 4,
 "nbformat_minor": 2
}
